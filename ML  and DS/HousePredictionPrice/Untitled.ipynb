{
 "cells": [
  {
   "cell_type": "code",
   "execution_count": 1,
   "id": "ae3bc25a",
   "metadata": {},
   "outputs": [
    {
     "data": {
      "text/plain": [
       "29652.931506849316"
      ]
     },
     "execution_count": 1,
     "metadata": {},
     "output_type": "execute_result"
    }
   ],
   "source": [
    "import pandas as pd\n",
    "from sklearn.tree import DecisionTreeRegressor\n",
    "from sklearn.metrics import mean_absolute_error\n",
    "from sklearn.model_selection import train_test_split\n",
    "\n",
    "iowa_powa_file =  './train.csv'\n",
    "home_data =  pd.read_csv(iowa_powa_file)\n",
    "#home_data =  home_data.dropna(axis=0)\n",
    "home_data.columns\n",
    "y =  home_data.SalePrice\n",
    "\n",
    "#Feauture targets\n",
    "feature_names = [\"LotArea\", \"YearBuilt\", \"1stFlrSF\", \"2ndFlrSF\",\n",
    "                      \"FullBath\", \"BedroomAbvGr\", \"TotRmsAbvGrd\"]\n",
    "X =  home_data[feature_names]\n",
    "\n",
    "#Defining model\n",
    "train_X, test_X, train_y, test_y =  train_test_split(X,y,random_state=1)\n",
    "iowa_model =  DecisionTreeRegressor(random_state=1)\n",
    "\n",
    "#fit model\n",
    "iowa_model.fit(train_X, train_y)\n",
    "\n",
    "#predict\n",
    "predictions  = iowa_model.predict(test_X)\n",
    "\n",
    "#Evaluation\n",
    "mean_absolute_error(test_y, predictions)\n",
    "\n"
   ]
  },
  {
   "cell_type": "code",
   "execution_count": 3,
   "id": "57de841b",
   "metadata": {},
   "outputs": [],
   "source": [
    "def get_mae(max_leaf_nodes,train_X,test_X,train_y,test_y):\n",
    "    model =  DecisionTreeRegressor(max_leaf_nodes=max_leaf_nodes,random_state=0)\n",
    "    model.fit(train_X,train_y)\n",
    "    pred_val =  model.predict(test_X)\n",
    "    mae =  mean_absolute_error(test_y,pred_val)\n",
    "    return mae"
   ]
  },
  {
   "cell_type": "code",
   "execution_count": null,
   "id": "16c6e3dc",
   "metadata": {},
   "outputs": [],
   "source": [
    "for max_leaf_nodes in [5,50,500,5000]:\n",
    "    my_mae = get_mae(max_leaf_nodes,train_X,test_X,train_y,test_y)\n",
    "    print( \"Max leaf nodes :%d \\t\\t Max Absolute Errors :%d\" %(max_leaf_nodes,my_mae))\n",
    "    "
   ]
  }
 ],
 "metadata": {
  "kernelspec": {
   "display_name": "Python 3 (ipykernel)",
   "language": "python",
   "name": "python3"
  },
  "language_info": {
   "codemirror_mode": {
    "name": "ipython",
    "version": 3
   },
   "file_extension": ".py",
   "mimetype": "text/x-python",
   "name": "python",
   "nbconvert_exporter": "python",
   "pygments_lexer": "ipython3",
   "version": "3.9.7"
  }
 },
 "nbformat": 4,
 "nbformat_minor": 5
}
